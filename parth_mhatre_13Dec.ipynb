{
 "cells": [
  {
   "cell_type": "code",
   "execution_count": 1,
   "id": "fb7144d9",
   "metadata": {},
   "outputs": [
    {
     "name": "stdout",
     "output_type": "stream",
     "text": [
      "Enter 1st number: 8\n",
      "Enter 2nd number: 9\n",
      "Addition is  17\n"
     ]
    }
   ],
   "source": [
    "###### WAP to accept two numbers from the user and display their sum\n",
    "\n",
    "num1 = int(input(\"Enter 1st number: \"))\n",
    "num2 = int(input(\"Enter 2nd number: \"))\n",
    "print(\"Addition is \",num1+num2) "
   ]
  },
  {
   "cell_type": "code",
   "execution_count": 2,
   "id": "c6739449-7293-4440-a55b-70f8a4f35b3c",
   "metadata": {},
   "outputs": [
    {
     "name": "stdout",
     "output_type": "stream",
     "text": [
      "enter radius: 8\n",
      "Area of circle is:  200.96\n",
      "Circumference of circle is:  50.24\n"
     ]
    }
   ],
   "source": [
    "# WAP to accept radius of a Circle from the user and calculate area and circumference\n",
    "def circle():\n",
    "    radius = float(input(\"enter radius: \"))\n",
    "    area = 3.14*radius*radius\n",
    "    print(\"Area of circle is: \",area)\n",
    "    \n",
    "    circum = 2*3.14*radius\n",
    "    print(\"Circumference of circle is: \",circum)\n",
    "\n",
    "circle()\n",
    "\n",
    "    "
   ]
  },
  {
   "cell_type": "code",
   "execution_count": 3,
   "id": "76543586-af68-4ddb-9e43-ef19089581c1",
   "metadata": {},
   "outputs": [
    {
     "name": "stdout",
     "output_type": "stream",
     "text": [
      "Enter roll number: 8\n",
      "Enter grade: A\n",
      "Enter percentage: 90\n",
      "Roll number is: 8 and Grade:A ,with percentage:90 %\n"
     ]
    }
   ],
   "source": [
    "# WAP to accept roll number , grade and percentage as input from the user and display it back\n",
    "\n",
    "roll = int(input(\"Enter roll number: \"))\n",
    "grade = input(\"Enter grade: \")\n",
    "percentage = int(input(\"Enter percentage: \"))\n",
    "print(\"Roll number is: {} and Grade:{} ,with percentage:{} %\" .format(roll,grade,percentage))"
   ]
  },
  {
   "cell_type": "code",
   "execution_count": 4,
   "id": "7106f876-6086-42fb-ae66-ad05b9dfad49",
   "metadata": {},
   "outputs": [
    {
     "name": "stdout",
     "output_type": "stream",
     "text": [
      "Enter your name: parth\n",
      "enter your age: 23\n",
      "Hello parth , You'll be turn 100 year's old in the year 2099\n"
     ]
    }
   ],
   "source": [
    "\"\"\" Write a program that asks the user to enter his/her name and age. Print out a message , \n",
    "displaying the user’s name along with the year in which they will turn 100 years old. \"\"\"\n",
    "\n",
    "name = input(\"Enter your name: \")\n",
    "age = int(input(\"enter your age: \"))\n",
    "year = 2022 - age + 100\n",
    "print(\"Hello {} , You'll be turn 100 year's old in the year {}\".format(name,year))"
   ]
  },
  {
   "cell_type": "code",
   "execution_count": 5,
   "id": "11eb8dca-717d-4568-8e53-838016c09190",
   "metadata": {},
   "outputs": [
    {
     "name": "stdout",
     "output_type": "stream",
     "text": [
      "enter two numbers: 5 6\n",
      "sum is :  11\n"
     ]
    }
   ],
   "source": [
    "''' Write a program that asks the user to input 2 integers and adds them .\n",
    "Accept both the numbers in a single line only '''\n",
    "\n",
    "num1,num2 = map(int ,input(\"enter two numbers: \").split())\n",
    "\n",
    "print(\"sum is : \",num1+num2)  "
   ]
  },
  {
   "cell_type": "code",
   "execution_count": 6,
   "id": "2d7e1932-9f92-416b-aea8-fc26eb17f10e",
   "metadata": {},
   "outputs": [
    {
     "name": "stdout",
     "output_type": "stream",
     "text": [
      "Enter first name: parth\n",
      "Enter last name: mhatre\n",
      "ertahm htrap\n"
     ]
    }
   ],
   "source": [
    "''' Write a Python program which accepts the user's first and last name and print them\n",
    "in reverse order with a space between them. '''\n",
    "\n",
    "first_name = input(\"Enter first name: \")\n",
    "last_name = input(\"Enter last name: \")\n",
    "reverse_name = first_name+\" \"+last_name\n",
    "print(reverse_name[::-1])"
   ]
  },
  {
   "cell_type": "code",
   "execution_count": null,
   "id": "28ca2472-6d58-44d4-9803-0d3d52c04d80",
   "metadata": {},
   "outputs": [],
   "source": []
  },
  {
   "cell_type": "code",
   "execution_count": 7,
   "id": "86cd70f4-868d-43f7-86d4-c6401311db9e",
   "metadata": {},
   "outputs": [
    {
     "name": "stdout",
     "output_type": "stream",
     "text": [
      "Enter the number: 23\n",
      "Odd number\n"
     ]
    }
   ],
   "source": [
    "# WAP to accept an integer from the user and check whether it is an even or odd \n",
    "\n",
    "num = int(input(\"Enter the number: \"))\n",
    "if num%2==0:\n",
    "    print(\"Even number\")\n",
    "else:\n",
    "    print(\"Odd number\")"
   ]
  },
  {
   "cell_type": "code",
   "execution_count": 8,
   "id": "162a9dfb-7113-4b8b-88d8-0ae147b9408b",
   "metadata": {},
   "outputs": [
    {
     "name": "stdout",
     "output_type": "stream",
     "text": [
      "Enter character: P\n",
      "It is in Capital letters\n"
     ]
    }
   ],
   "source": [
    "''' WAP to accept a character from the user and check whether it is a capital letter or small letter. \n",
    "Assume user will input only alphabets '''\n",
    "\n",
    "alpha = input(\"Enter character: \")\n",
    "if alpha>='a' and alpha<='z':\n",
    "    print(\"It is in Small letters\")\n",
    "elif alpha>='A' and alpha<='Z':\n",
    "    print(\"It is in Capital letters\")\n",
    "else :\n",
    "    print(\"Invalid\")"
   ]
  },
  {
   "cell_type": "code",
   "execution_count": 9,
   "id": "8f552eda-9b69-4cb1-bf23-03835fe33305",
   "metadata": {},
   "outputs": [
    {
     "name": "stdout",
     "output_type": "stream",
     "text": [
      "Enter :e\n",
      "Small letter\n"
     ]
    }
   ],
   "source": [
    "''' WAP to accept a character from the user and check whether it is a capital\n",
    "letter or small letter or a digit or some special symbol '''\n",
    "\n",
    "a = input(\"Enter :\")\n",
    "if a>='a' and a<='z':\n",
    "    print(\"Small letter\")\n",
    "elif a>='A' and a<='Z':\n",
    "    print(\"Capital letter\")\n",
    "elif a<'0' or a>'0':\n",
    "    print(\"Digit\")\n",
    "else :\n",
    "    print(\"Special Symbol\")"
   ]
  },
  {
   "cell_type": "code",
   "execution_count": 10,
   "id": "2814ea35-d052-495d-93b2-34bd382877e0",
   "metadata": {},
   "outputs": [
    {
     "name": "stdout",
     "output_type": "stream",
     "text": [
      "Enter digit: 33\n",
      "Enter digit: 3\n",
      "Enter digit: 333\n",
      "Greatest : 333\n"
     ]
    }
   ],
   "source": [
    "''' WAP to accept 3 integers from the user and without using any logical operator and cascading of relational operators , find out the greatest number amongst them '''\n",
    "\n",
    "a = int(input(\"Enter digit: \"))\n",
    "b = int(input(\"Enter digit: \"))\n",
    "c = int(input(\"Enter digit: \"))\n",
    "\n",
    "print(\"Greatest :\",max(a,b,c))"
   ]
  },
  {
   "cell_type": "code",
   "execution_count": 11,
   "id": "6626e5a8-eefe-47de-ba88-698f1a192b7d",
   "metadata": {},
   "outputs": [
    {
     "name": "stdout",
     "output_type": "stream",
     "text": [
      "enter year: 2034\n",
      "Not a leap year\n"
     ]
    }
   ],
   "source": [
    "''' WAP to accept a year from the user and check whether it is a leap year or not.An year is a leap year if:\n",
    "It is exactly divisible by 4 and at the same time notdivisible by 100ORIt is divisible by 400 '''\n",
    "\n",
    "year = int(input(\"enter year: \"))\n",
    "if year%4== 0 and year%100!=0 or year%400== 0:\n",
    "    print(\"It's a Leap year\")\n",
    "else:\n",
    "    print(\"Not a leap year\")"
   ]
  },
  {
   "cell_type": "code",
   "execution_count": 12,
   "id": "636ff6aa-8449-47fc-b6a9-f2df57eca4ef",
   "metadata": {},
   "outputs": [
    {
     "name": "stdout",
     "output_type": "stream",
     "text": [
      "Guess the number : 6\n",
      "Number too small\n",
      "Guess the number : 9\n",
      "Number too small\n",
      "Guess the number : 14\n",
      "Number too small\n",
      "Guess the number : 17\n",
      "Number too small\n",
      "Guess the number : 20\n",
      "Number too large\n",
      "Guess the number : 19\n",
      "Congratulations! You won!! \n"
     ]
    }
   ],
   "source": [
    "# Number guessing game \n",
    "\n",
    "import random\n",
    "number = random.randint(0,20)\n",
    "while True:\n",
    "    a = int (input(\"Guess the number : \"))\n",
    "    if a<=0:\n",
    "        break\n",
    "    elif a>0:\n",
    "        if number==a:\n",
    "            print(\"Congratulations! You won!! \")\n",
    "            break\n",
    "        elif a>number:\n",
    "            print(\"Number too large\")\n",
    "        elif a<number:\n",
    "            print(\"Number too small\")\n"
   ]
  },
  {
   "cell_type": "code",
   "execution_count": 13,
   "id": "909714e3-c8b0-4b11-b625-fd60e8c77e5f",
   "metadata": {},
   "outputs": [
    {
     "name": "stdout",
     "output_type": "stream",
     "text": [
      "Enter the string : parth\n",
      "p\n",
      "r\n",
      "t\n",
      "h\n"
     ]
    }
   ],
   "source": [
    "# Write a program to accept a string from the user and display it vertically but don’t display the vowels in it.\n",
    "a = input(\"Enter the string : \")\n",
    "i = 0\n",
    "while i<len(a):\n",
    "    if a[i] not in 'aeiou':\n",
    "        print(a[i])\n",
    "    i= i+1\n",
    "\n"
   ]
  },
  {
   "cell_type": "code",
   "execution_count": 14,
   "id": "071cca5f-54ff-4904-a328-03168cfa6e84",
   "metadata": {},
   "outputs": [
    {
     "name": "stdout",
     "output_type": "stream",
     "text": [
      "Enter the number : 23\n",
      "Enter the number : 33\n",
      "Enter the number : 45\n",
      "Enter the number : 0\n",
      "101\n"
     ]
    }
   ],
   "source": [
    "''' Write a program to continuously accept integers from the user until the user types 0 and as soon as 0 is entered display sum of all the nos entered before 0\n",
    "Note:Modify the previous code so that if the user inputs a negative integer , your program should ignore it . '''\n",
    "\n",
    "sum = 0\n",
    "while True:\n",
    "    a = int(input(\"Enter the number : \"))\n",
    "    if a>0:\n",
    "        sum = sum + a\n",
    "    elif a== 0:\n",
    "        print (sum)\n",
    "        break"
   ]
  },
  {
   "cell_type": "code",
   "execution_count": 15,
   "id": "0eb1405f-e884-4dbe-8922-dc96365fa935",
   "metadata": {},
   "outputs": [
    {
     "name": "stdout",
     "output_type": "stream",
     "text": [
      "Enter String : parth\n",
      "p\n",
      "r\n",
      "t\n",
      "h\n"
     ]
    }
   ],
   "source": [
    "''' Write a program using a for loop to accept a string from the user and display it vertically but don’t display the vowels in it. '''\n",
    "\n",
    "a = input(\"Enter String : \")\n",
    "for i in range(len(a)):\n",
    "    if a[i] in 'aeiou':\n",
    "        continue\n",
    "    print(a[i])"
   ]
  },
  {
   "cell_type": "code",
   "execution_count": null,
   "id": "b76a721b-5f2d-4db1-bb6a-47cdd7379908",
   "metadata": {},
   "outputs": [],
   "source": []
  },
  {
   "cell_type": "code",
   "execution_count": 17,
   "id": "9c81b197-27e0-4677-b892-434bda2f0a7d",
   "metadata": {},
   "outputs": [
    {
     "name": "stdout",
     "output_type": "stream",
     "text": [
      "Enter the number : 23\n",
      "276\n"
     ]
    }
   ],
   "source": [
    "''' Write a program to accept an integer from the user and display the sum of all the numbers from 1 to that number. '''\n",
    "num = 0\n",
    "a =int(input(\"Enter the number : \"))\n",
    "i= 1\n",
    "while i<=a:\n",
    "    num = i+ num\n",
    "    i = i+1\n",
    "print(num)\n",
    "    "
   ]
  },
  {
   "cell_type": "code",
   "execution_count": 18,
   "id": "2b7bc860-6495-423a-bfd3-f851caf7eacc",
   "metadata": {},
   "outputs": [
    {
     "name": "stdout",
     "output_type": "stream",
     "text": [
      "Enter the number : 33\n",
      "8683317618811886495518194401280000000\n"
     ]
    }
   ],
   "source": [
    "''' Write a program to accept an integer from the user and calculate its factorial '''\n",
    "\n",
    "num = 1\n",
    "a =int(input(\"Enter the number : \"))\n",
    "i= 1\n",
    "while i<=a:\n",
    "    num = i* num\n",
    "    i = i+1\n",
    "print(num)"
   ]
  },
  {
   "cell_type": "code",
   "execution_count": 19,
   "id": "2d9153eb-4b23-4376-8586-06f9172c9dff",
   "metadata": {},
   "outputs": [
    {
     "name": "stdout",
     "output_type": "stream",
     "text": [
      "\n",
      "\n",
      "***\n",
      "\n",
      "***\n",
      "\n",
      "***\n",
      "\n",
      "***"
     ]
    }
   ],
   "source": [
    "''' Write a program to print the following pattern \n",
    "***\n",
    "***\n",
    "***\n",
    "*** \n",
    "'''\n",
    "n = 4\n",
    "m = 3\n",
    "for i in range(n):\n",
    "    print(\"\\n\")\n",
    "    for j in range(m):\n",
    "        print(\"*\" , end=\"\")"
   ]
  },
  {
   "cell_type": "code",
   "execution_count": 20,
   "id": "f0d39e5e-76c4-4d26-a693-5dcf1393a5da",
   "metadata": {},
   "outputs": [
    {
     "name": "stdout",
     "output_type": "stream",
     "text": [
      "\n",
      "\n",
      "\n",
      "\n",
      "*\n",
      "\n",
      "**\n",
      "\n",
      "***\n",
      "\n",
      "****"
     ]
    }
   ],
   "source": [
    "''' Write a program to print the following pattern \n",
    "*\n",
    "**\n",
    "***\n",
    "**** \n",
    "'''\n",
    "n = 4\n",
    "for m in range(n+1):\n",
    "    print(\"\\n\")\n",
    "    for j in range(m):\n",
    "        print(\"*\" , end=\"\")"
   ]
  },
  {
   "cell_type": "code",
   "execution_count": 21,
   "id": "959c538e-d970-4fe2-934e-c6633c4408b2",
   "metadata": {},
   "outputs": [
    {
     "name": "stdout",
     "output_type": "stream",
     "text": [
      "****\n",
      "\n",
      "***\n",
      "\n",
      "**\n",
      "\n",
      "*\n",
      "\n",
      "\n",
      "\n"
     ]
    }
   ],
   "source": [
    "number = 4\n",
    "for i in range(number+1, 0, -1):  \n",
    "    for j in range(0,i-1):\n",
    "        print(\"*\", end=\"\")\n",
    "    print (\"\\n\")"
   ]
  },
  {
   "cell_type": "code",
   "execution_count": 25,
   "id": "600084f9-2ba0-489a-927b-ad5e4d9d84e3",
   "metadata": {},
   "outputs": [
    {
     "name": "stdout",
     "output_type": "stream",
     "text": [
      "Enter the No : 30\n",
      "1 2 3 4 5 6 7 8 9 10 11 12 13 14 15 16 17 18 19 20 21 22 23 24 25 26 27 28 29 30 \n",
      "\n",
      "Enter the No : 0\n"
     ]
    }
   ],
   "source": [
    "''' Write a program to accept an integer from the user and display all the\n",
    "numbers from 1 to that number. Repeat the process until the user enters 0. '''\n",
    "\n",
    "while True :\n",
    "    number=int(input(\"Enter the No : \"))\n",
    "    if number>0:\n",
    "        i=1\n",
    "        while i<=number:\n",
    "            print(i , end =\" \")\n",
    "            i=i+1\n",
    "        print(\"\\n\")\n",
    "    else:\n",
    "        break\n",
    "        \n",
    "        "
   ]
  },
  {
   "cell_type": "code",
   "execution_count": null,
   "id": "d7b38cb1-b2f0-4d8b-8d24-d540f8c7c53d",
   "metadata": {},
   "outputs": [],
   "source": []
  }
 ],
 "metadata": {
  "kernelspec": {
   "display_name": "Python 3 (ipykernel)",
   "language": "python",
   "name": "python3"
  },
  "language_info": {
   "codemirror_mode": {
    "name": "ipython",
    "version": 3
   },
   "file_extension": ".py",
   "mimetype": "text/x-python",
   "name": "python",
   "nbconvert_exporter": "python",
   "pygments_lexer": "ipython3",
   "version": "3.9.2"
  }
 },
 "nbformat": 4,
 "nbformat_minor": 5
}
